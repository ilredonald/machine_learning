{
 "cells": [
  {
   "cell_type": "code",
   "execution_count": null,
   "id": "d1e66f3d-0820-4c6c-9ed2-d2df6da28430",
   "metadata": {},
   "outputs": [],
   "source": []
  }
 ],
 "metadata": {
  "kernelspec": {
   "display_name": "Python 3 (ipykernel)",
   "language": "python",
   "name": "python3"
  },
  "language_info": {
   "name": ""
  }
 },
 "nbformat": 4,
 "nbformat_minor": 5
}
